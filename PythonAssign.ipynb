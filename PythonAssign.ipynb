{
  "nbformat": 4,
  "nbformat_minor": 0,
  "metadata": {
    "colab": {
      "provenance": []
    },
    "kernelspec": {
      "name": "python3",
      "display_name": "Python 3"
    },
    "language_info": {
      "name": "python"
    }
  },
  "cells": [
    {
      "cell_type": "code",
      "source": [
        "\n",
        "groPrice = [1.50, 1.75, 0.99, 4.99]\n",
        "quantity = []\n",
        "for i in range(5):\n",
        "    q = int(input(\"Please Enter Number of Item \" + str(i+1) + \": \"))\n",
        "    quantity.append(q)\n",
        "\n",
        "sum = 0\n",
        "for i in range(5):\n",
        "    sum += groPrice[i] * quantity[i]\n",
        "\n",
        "print(\"Total cost:\", sum)\n"
      ],
      "metadata": {
        "id": "K77LWU4shb-F",
        "colab": {
          "base_uri": "https://localhost:8080/"
        },
        "outputId": "f5f2e87d-a980-4327-e4de-0dd38e9b0515"
      },
      "execution_count": null,
      "outputs": [
        {
          "output_type": "stream",
          "name": "stdout",
          "text": [
            "Please Enter Number of Item 1: 6\n",
            "Please Enter Number of Item 2: 5\n",
            "Please Enter Number of Item 3: 34\n",
            "Please Enter Number of Item 4: 6\n",
            "Please Enter Number of Item 5: 7\n",
            "Total cost: 151.28\n"
          ]
        }
      ]
    },
    {
      "cell_type": "code",
      "source": [
        "sentence = input(\"Please Enter Your Sentence:\")\n",
        "words = set(sentence.split())\n",
        "print(\"Unique words in your sentence:\", words)\n",
        "print(\"Number of unique words in your sentence:\", len(words))"
      ],
      "metadata": {
        "colab": {
          "base_uri": "https://localhost:8080/"
        },
        "id": "uqovXcsBm1KB",
        "outputId": "22b2a902-6530-4f6f-9b69-133062169521"
      },
      "execution_count": null,
      "outputs": [
        {
          "output_type": "stream",
          "name": "stdout",
          "text": [
            "Please Enter Your Sentence:Hello greetings good day\n",
            "Unique words in your sentence: {'day', 'Hello', 'greetings', 'good'}\n",
            "Number of unique words in your sentence: 4\n"
          ]
        }
      ]
    },
    {
      "cell_type": "code",
      "source": [
        "people = {\"Ava\":\"Apple\", \"Jordan\":\"Banana\", \"John\": \"Mango\"}\n",
        "print(\"Favorite Fruits:\", people)\n",
        "name = input(\"Enter a person's name: \")\n",
        "if name in people:\n",
        "    print(name + \"'s favorite fruit is \" + people[name])\n",
        "else:\n",
        "    print(\"Name not found in the dictionary.\")"
      ],
      "metadata": {
        "colab": {
          "base_uri": "https://localhost:8080/"
        },
        "id": "bg5jG3SuouRS",
        "outputId": "b3d8afc6-a8a3-410e-8bba-9edf0dd8d67b"
      },
      "execution_count": null,
      "outputs": [
        {
          "output_type": "stream",
          "name": "stdout",
          "text": [
            "Favorite Fruits: {'Ava': 'Apple', 'Jordan': 'Banana', 'John': 'Mango'}\n",
            "Enter a person's name: Ava\n",
            "Ava's favorite fruit is Apple\n"
          ]
        }
      ]
    },
    {
      "cell_type": "code",
      "source": [
        "num = int(input(\"Please Enter a Number: \"))\n",
        "for i in range(1, 11):\n",
        "  print(num, \"*\", i, \"=\", num*i)"
      ],
      "metadata": {
        "colab": {
          "base_uri": "https://localhost:8080/"
        },
        "id": "ZCPhwtueqSJ4",
        "outputId": "ad96133b-2581-427a-f4a5-53ca66a0ea17"
      },
      "execution_count": null,
      "outputs": [
        {
          "output_type": "stream",
          "name": "stdout",
          "text": [
            "Please Enter a Number: 20\n",
            "20 * 1 = 20\n",
            "20 * 2 = 40\n",
            "20 * 3 = 60\n",
            "20 * 4 = 80\n",
            "20 * 5 = 100\n",
            "20 * 6 = 120\n",
            "20 * 7 = 140\n",
            "20 * 8 = 160\n",
            "20 * 9 = 180\n",
            "20 * 10 = 200\n"
          ]
        }
      ]
    },
    {
      "cell_type": "code",
      "source": [
        "def add(a, b):\n",
        "  return a + b\n",
        "\n",
        "def subtract(a, b):\n",
        "  return a - b\n",
        "\n",
        "def multiply(a, b):\n",
        "  return a * b\n",
        "\n",
        "def divide(a, b):\n",
        "  return a / b\n",
        "x = float(input(\"Enter first number: \"))\n",
        "y = float(input(\"Enter second number: \"))\n",
        "print(\"Select operation:\")\n",
        "print(\"1. Add\")\n",
        "print(\"2. Subtract\")\n",
        "print(\"3. Multiply\")\n",
        "print(\"4. Divide\")\n",
        "\n",
        "operation = input(\"Enter Operation Number: \")\n",
        "if operation == \"1\":\n",
        "  print(\"Result: \", add(x, y))\n",
        "elif operation == \"2\":\n",
        "  print(\"Result: \", subtract(x, y))\n",
        "elif operation == \"3\":\n",
        "  print(\"Result: \", multiply(x, y))\n",
        "elif operation == \"4\":\n",
        "  print(\"Result: \", divide(x, y))"
      ],
      "metadata": {
        "colab": {
          "base_uri": "https://localhost:8080/"
        },
        "id": "R3obosKWrKGj",
        "outputId": "07cc764b-96b6-4293-e0a2-799b3850cf1a"
      },
      "execution_count": null,
      "outputs": [
        {
          "output_type": "stream",
          "name": "stdout",
          "text": [
            "Enter first number: 2\n",
            "Enter second number: 2\n",
            "Select operation:\n",
            "1. Add\n",
            "2. Subtract\n",
            "3. Multiply\n",
            "4. Divide\n",
            "Enter Operation Number: 3\n",
            "Result:  4.0\n"
          ]
        }
      ]
    }
  ]
}
